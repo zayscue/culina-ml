{
 "cells": [
  {
   "cell_type": "code",
   "execution_count": 1,
   "metadata": {},
   "outputs": [],
   "source": [
    "import pandas as pd\n",
    "from sklearn.model_selection import train_test_split"
   ]
  },
  {
   "cell_type": "code",
   "execution_count": 2,
   "metadata": {},
   "outputs": [],
   "source": [
    "df_interactions = pd.read_csv('../data/interactions.csv')"
   ]
  },
  {
   "cell_type": "code",
   "execution_count": 3,
   "id": "b1776705",
   "metadata": {},
   "outputs": [
    {
     "data": {
      "text/plain": [
       "user_id      1124532\n",
       "recipe_id    1124532\n",
       "rating       1124532\n",
       "dtype: int64"
      ]
     },
     "execution_count": 3,
     "metadata": {},
     "output_type": "execute_result"
    }
   ],
   "source": [
    "df_interactions.count()"
   ]
  },
  {
   "cell_type": "code",
   "execution_count": 136,
   "id": "28012b06",
   "metadata": {},
   "outputs": [],
   "source": [
    "df_recipe_popularity = pd.read_csv('../data/recipe_popularity.csv')"
   ]
  },
  {
   "cell_type": "code",
   "execution_count": null,
   "id": "85bda9fc",
   "metadata": {},
   "outputs": [],
   "source": [
    "df_recipe_popularity.count()"
   ]
  },
  {
   "cell_type": "code",
   "execution_count": 77,
   "id": "f74f1052",
   "metadata": {},
   "outputs": [
    {
     "data": {
      "text/html": [
       "<div>\n",
       "<style scoped>\n",
       "    .dataframe tbody tr th:only-of-type {\n",
       "        vertical-align: middle;\n",
       "    }\n",
       "\n",
       "    .dataframe tbody tr th {\n",
       "        vertical-align: top;\n",
       "    }\n",
       "\n",
       "    .dataframe thead th {\n",
       "        text-align: right;\n",
       "    }\n",
       "</style>\n",
       "<table border=\"1\" class=\"dataframe\">\n",
       "  <thead>\n",
       "    <tr style=\"text-align: right;\">\n",
       "      <th></th>\n",
       "      <th>user_id</th>\n",
       "      <th>recipe_id</th>\n",
       "      <th>rating</th>\n",
       "    </tr>\n",
       "  </thead>\n",
       "  <tbody>\n",
       "    <tr>\n",
       "      <th>0</th>\n",
       "      <td>6043f4dcb8458600693a374d</td>\n",
       "      <td>7665</td>\n",
       "      <td>7665</td>\n",
       "    </tr>\n",
       "    <tr>\n",
       "      <th>1</th>\n",
       "      <td>60cbbe3bed6fcb006949d796</td>\n",
       "      <td>5587</td>\n",
       "      <td>5587</td>\n",
       "    </tr>\n",
       "    <tr>\n",
       "      <th>2</th>\n",
       "      <td>60cbbe00348edc006a22c826</td>\n",
       "      <td>4621</td>\n",
       "      <td>4621</td>\n",
       "    </tr>\n",
       "    <tr>\n",
       "      <th>3</th>\n",
       "      <td>60cbbdb8ed6fcb006949d771</td>\n",
       "      <td>4073</td>\n",
       "      <td>4073</td>\n",
       "    </tr>\n",
       "    <tr>\n",
       "      <th>4</th>\n",
       "      <td>60cbbd7c7f82d100681b3386</td>\n",
       "      <td>3912</td>\n",
       "      <td>3912</td>\n",
       "    </tr>\n",
       "    <tr>\n",
       "      <th>...</th>\n",
       "      <td>...</td>\n",
       "      <td>...</td>\n",
       "      <td>...</td>\n",
       "    </tr>\n",
       "    <tr>\n",
       "      <th>95</th>\n",
       "      <td>2875f5879dad4118aff113d0</td>\n",
       "      <td>1010</td>\n",
       "      <td>1010</td>\n",
       "    </tr>\n",
       "    <tr>\n",
       "      <th>96</th>\n",
       "      <td>64bbfd442dd8434f8bd71234</td>\n",
       "      <td>994</td>\n",
       "      <td>994</td>\n",
       "    </tr>\n",
       "    <tr>\n",
       "      <th>97</th>\n",
       "      <td>05f01b5ce879451c9deb2c37</td>\n",
       "      <td>991</td>\n",
       "      <td>991</td>\n",
       "    </tr>\n",
       "    <tr>\n",
       "      <th>98</th>\n",
       "      <td>ed5ae65ae48d424a8bfc4332</td>\n",
       "      <td>982</td>\n",
       "      <td>982</td>\n",
       "    </tr>\n",
       "    <tr>\n",
       "      <th>99</th>\n",
       "      <td>27e51674eeb9428d8bd83bd5</td>\n",
       "      <td>958</td>\n",
       "      <td>958</td>\n",
       "    </tr>\n",
       "  </tbody>\n",
       "</table>\n",
       "<p>100 rows × 3 columns</p>\n",
       "</div>"
      ],
      "text/plain": [
       "                     user_id  recipe_id  rating\n",
       "0   6043f4dcb8458600693a374d       7665    7665\n",
       "1   60cbbe3bed6fcb006949d796       5587    5587\n",
       "2   60cbbe00348edc006a22c826       4621    4621\n",
       "3   60cbbdb8ed6fcb006949d771       4073    4073\n",
       "4   60cbbd7c7f82d100681b3386       3912    3912\n",
       "..                       ...        ...     ...\n",
       "95  2875f5879dad4118aff113d0       1010    1010\n",
       "96  64bbfd442dd8434f8bd71234        994     994\n",
       "97  05f01b5ce879451c9deb2c37        991     991\n",
       "98  ed5ae65ae48d424a8bfc4332        982     982\n",
       "99  27e51674eeb9428d8bd83bd5        958     958\n",
       "\n",
       "[100 rows x 3 columns]"
      ]
     },
     "execution_count": 77,
     "metadata": {},
     "output_type": "execute_result"
    }
   ],
   "source": [
    "df_interactions.groupby([\"user_id\"]).count().sort_values(\"rating\", ascending=False).reset_index().head(100)"
   ]
  },
  {
   "cell_type": "code",
   "execution_count": 138,
   "id": "cbbbbb5c",
   "metadata": {},
   "outputs": [],
   "source": [
    "df_top_reviewers = df_interactions.groupby([\"user_id\"]).count().sort_values(\"rating\", ascending=False).reset_index()[\"user_id\"]\n",
    "#df_top_reviewers = df_top_reviewers.head(250)\n",
    "df_bottom_reviewers = df_interactions.groupby([\"user_id\"]).count().sort_values(\"rating\", ascending=True).reset_index()[\"user_id\"]\n",
    "#df_bottom_reviewers = df_bottom_reviewers.head(5000)"
   ]
  },
  {
   "cell_type": "code",
   "execution_count": 139,
   "id": "97ec4e1e",
   "metadata": {},
   "outputs": [],
   "source": [
    "df_reviewers = pd.concat([df_top_reviewers, df_bottom_reviewers]).drop_duplicates()"
   ]
  },
  {
   "cell_type": "code",
   "execution_count": 140,
   "id": "a6f63597",
   "metadata": {},
   "outputs": [],
   "source": [
    "df_reviews = df_interactions.loc[df_interactions[\"user_id\"].isin(df_reviewers)]\n",
    "df_reviews = df_reviews.reset_index(drop=True)"
   ]
  },
  {
   "cell_type": "code",
   "execution_count": 141,
   "id": "8615e384",
   "metadata": {},
   "outputs": [
    {
     "data": {
      "text/plain": [
       "user_id      1124532\n",
       "recipe_id    1124532\n",
       "rating       1124532\n",
       "date         1124532\n",
       "dtype: int64"
      ]
     },
     "execution_count": 141,
     "metadata": {},
     "output_type": "execute_result"
    }
   ],
   "source": [
    "df_reviews.count()"
   ]
  },
  {
   "cell_type": "code",
   "execution_count": 142,
   "id": "49d10f25",
   "metadata": {},
   "outputs": [],
   "source": [
    "df_joined = df_reviews.merge(df_recipe_popularity[[\"recipe_id\", \"rating_count\", \"rating_sum\", \"rating_avg\", \"rating_weighted_avg\", \"rank\"]], on=[\"recipe_id\"], how=\"left\")"
   ]
  },
  {
   "cell_type": "code",
   "execution_count": 143,
   "id": "e4605da2",
   "metadata": {},
   "outputs": [
    {
     "data": {
      "text/plain": [
       "user_id                1124532\n",
       "recipe_id              1124532\n",
       "rating                 1124532\n",
       "date                   1124532\n",
       "rating_count           1124532\n",
       "rating_sum             1124532\n",
       "rating_avg             1124532\n",
       "rating_weighted_avg    1124532\n",
       "rank                   1124532\n",
       "dtype: int64"
      ]
     },
     "execution_count": 143,
     "metadata": {},
     "output_type": "execute_result"
    }
   ],
   "source": [
    "df_joined.count()"
   ]
  },
  {
   "cell_type": "code",
   "execution_count": 145,
   "id": "2fde93ba",
   "metadata": {},
   "outputs": [
    {
     "data": {
      "text/html": [
       "<div>\n",
       "<style scoped>\n",
       "    .dataframe tbody tr th:only-of-type {\n",
       "        vertical-align: middle;\n",
       "    }\n",
       "\n",
       "    .dataframe tbody tr th {\n",
       "        vertical-align: top;\n",
       "    }\n",
       "\n",
       "    .dataframe thead th {\n",
       "        text-align: right;\n",
       "    }\n",
       "</style>\n",
       "<table border=\"1\" class=\"dataframe\">\n",
       "  <thead>\n",
       "    <tr style=\"text-align: right;\">\n",
       "      <th></th>\n",
       "      <th>user_id</th>\n",
       "      <th>recipe_id</th>\n",
       "      <th>rating</th>\n",
       "      <th>date</th>\n",
       "      <th>rating_count</th>\n",
       "      <th>rating_sum</th>\n",
       "      <th>rating_avg</th>\n",
       "      <th>rating_weighted_avg</th>\n",
       "      <th>rank</th>\n",
       "    </tr>\n",
       "  </thead>\n",
       "  <tbody>\n",
       "    <tr>\n",
       "      <th>0</th>\n",
       "      <td>auth0|37a18c3939764ac9b4d72bda</td>\n",
       "      <td>b355f2ab-a8e3-4c69-833c-3ac31f5b0022</td>\n",
       "      <td>4</td>\n",
       "      <td>2017-09-04</td>\n",
       "      <td>701</td>\n",
       "      <td>3013</td>\n",
       "      <td>4.298146</td>\n",
       "      <td>4.303293</td>\n",
       "      <td>214372</td>\n",
       "    </tr>\n",
       "    <tr>\n",
       "      <th>1</th>\n",
       "      <td>auth0|794e065d91d74983bbec1e2d</td>\n",
       "      <td>5d063835-3353-4072-8742-754a2b6931bf</td>\n",
       "      <td>4</td>\n",
       "      <td>2007-02-05</td>\n",
       "      <td>4</td>\n",
       "      <td>17</td>\n",
       "      <td>4.250000</td>\n",
       "      <td>4.342316</td>\n",
       "      <td>176924</td>\n",
       "    </tr>\n",
       "    <tr>\n",
       "      <th>2</th>\n",
       "      <td>auth0|b17d1cd98ba34cb89cf03827</td>\n",
       "      <td>4fd380ff-2998-418b-aa0f-7bf262452e5b</td>\n",
       "      <td>5</td>\n",
       "      <td>2010-03-06</td>\n",
       "      <td>3</td>\n",
       "      <td>10</td>\n",
       "      <td>3.333333</td>\n",
       "      <td>4.311412</td>\n",
       "      <td>206756</td>\n",
       "    </tr>\n",
       "    <tr>\n",
       "      <th>3</th>\n",
       "      <td>auth0|bc88bec56fa54115ae355987</td>\n",
       "      <td>b4a5a1b7-3015-4a5b-ae59-9f79fb6d7bb5</td>\n",
       "      <td>5</td>\n",
       "      <td>2008-04-17</td>\n",
       "      <td>51</td>\n",
       "      <td>243</td>\n",
       "      <td>4.764706</td>\n",
       "      <td>4.505832</td>\n",
       "      <td>619</td>\n",
       "    </tr>\n",
       "    <tr>\n",
       "      <th>4</th>\n",
       "      <td>auth0|bfa42caef31f42f2871ebd8d</td>\n",
       "      <td>4f128c81-e2ab-449c-91ca-194ab31b2d6e</td>\n",
       "      <td>5</td>\n",
       "      <td>2009-04-16</td>\n",
       "      <td>14</td>\n",
       "      <td>64</td>\n",
       "      <td>4.571429</td>\n",
       "      <td>4.379190</td>\n",
       "      <td>22109</td>\n",
       "    </tr>\n",
       "  </tbody>\n",
       "</table>\n",
       "</div>"
      ],
      "text/plain": [
       "                          user_id                             recipe_id  \\\n",
       "0  auth0|37a18c3939764ac9b4d72bda  b355f2ab-a8e3-4c69-833c-3ac31f5b0022   \n",
       "1  auth0|794e065d91d74983bbec1e2d  5d063835-3353-4072-8742-754a2b6931bf   \n",
       "2  auth0|b17d1cd98ba34cb89cf03827  4fd380ff-2998-418b-aa0f-7bf262452e5b   \n",
       "3  auth0|bc88bec56fa54115ae355987  b4a5a1b7-3015-4a5b-ae59-9f79fb6d7bb5   \n",
       "4  auth0|bfa42caef31f42f2871ebd8d  4f128c81-e2ab-449c-91ca-194ab31b2d6e   \n",
       "\n",
       "   rating        date  rating_count  rating_sum  rating_avg  \\\n",
       "0       4  2017-09-04           701        3013    4.298146   \n",
       "1       4  2007-02-05             4          17    4.250000   \n",
       "2       5  2010-03-06             3          10    3.333333   \n",
       "3       5  2008-04-17            51         243    4.764706   \n",
       "4       5  2009-04-16            14          64    4.571429   \n",
       "\n",
       "   rating_weighted_avg    rank  \n",
       "0             4.303293  214372  \n",
       "1             4.342316  176924  \n",
       "2             4.311412  206756  \n",
       "3             4.505832     619  \n",
       "4             4.379190   22109  "
      ]
     },
     "execution_count": 145,
     "metadata": {},
     "output_type": "execute_result"
    }
   ],
   "source": [
    "df_joined.head()"
   ]
  },
  {
   "cell_type": "code",
   "execution_count": 146,
   "id": "bf15e0ee",
   "metadata": {},
   "outputs": [],
   "source": [
    "train, test = train_test_split(df_joined, test_size=0.2)"
   ]
  },
  {
   "cell_type": "code",
   "execution_count": 147,
   "id": "029ace29",
   "metadata": {},
   "outputs": [],
   "source": [
    "train.to_csv('../data/ml_dotnet_interactions_train.csv', index=False)\n",
    "test.to_csv('../data/ml_dotnet_interactions_test.csv', index=False)"
   ]
  }
 ],
 "metadata": {
  "kernelspec": {
   "display_name": "culina-ml-40shGluF-py3.9",
   "language": "python",
   "name": "python3"
  },
  "language_info": {
   "codemirror_mode": {
    "name": "ipython",
    "version": 3
   },
   "file_extension": ".py",
   "mimetype": "text/x-python",
   "name": "python",
   "nbconvert_exporter": "python",
   "pygments_lexer": "ipython3",
   "version": "3.9.12"
  },
  "vscode": {
   "interpreter": {
    "hash": "d6131821938e415775df715634ec8fe58985897a046b8322ab9ddb7023beab02"
   }
  }
 },
 "nbformat": 4,
 "nbformat_minor": 5
}
