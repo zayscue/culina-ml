{
 "cells": [
  {
   "cell_type": "code",
   "execution_count": 110,
   "metadata": {},
   "outputs": [],
   "source": [
    "import pandas as pd\n",
    "from sklearn.model_selection import train_test_split"
   ]
  },
  {
   "cell_type": "code",
   "execution_count": 132,
   "metadata": {},
   "outputs": [],
   "source": [
    "df_interactions = pd.read_csv('../data/interactions.csv')"
   ]
  },
  {
   "cell_type": "code",
   "execution_count": 114,
   "id": "9f2edfdb",
   "metadata": {},
   "outputs": [
    {
     "data": {
      "text/plain": [
       "user_id      1124532\n",
       "recipe_id    1124532\n",
       "rating       1124532\n",
       "dtype: int64"
      ]
     },
     "execution_count": 114,
     "metadata": {},
     "output_type": "execute_result"
    }
   ],
   "source": [
    "df_interactions.count()"
   ]
  },
  {
   "cell_type": "code",
   "execution_count": 133,
   "id": "ee7952d4",
   "metadata": {},
   "outputs": [],
   "source": [
    "df_original_interactions = pd.read_csv(\"../data/revised_interactions.csv\")"
   ]
  },
  {
   "cell_type": "code",
   "execution_count": 120,
   "id": "007439eb",
   "metadata": {},
   "outputs": [
    {
     "data": {
      "text/plain": [
       "user_id      1124532\n",
       "recipe_id    1124532\n",
       "rating       1124532\n",
       "review       1124365\n",
       "date         1124532\n",
       "dtype: int64"
      ]
     },
     "execution_count": 120,
     "metadata": {},
     "output_type": "execute_result"
    }
   ],
   "source": [
    "df_original_interactions.count()"
   ]
  },
  {
   "cell_type": "code",
   "execution_count": 134,
   "id": "cbadf2d5",
   "metadata": {},
   "outputs": [],
   "source": [
    "df_merged = df_interactions.merge(df_original_interactions[[\"user_id\", \"recipe_id\", \"date\"]], on=[\"user_id\", \"recipe_id\"])\n",
    "df_interactions = df_merged"
   ]
  },
  {
   "cell_type": "code",
   "execution_count": 135,
   "id": "b1776705",
   "metadata": {},
   "outputs": [
    {
     "data": {
      "text/plain": [
       "user_id      1124532\n",
       "recipe_id    1124532\n",
       "rating       1124532\n",
       "date         1124532\n",
       "dtype: int64"
      ]
     },
     "execution_count": 135,
     "metadata": {},
     "output_type": "execute_result"
    }
   ],
   "source": [
    "df_interactions.count()"
   ]
  },
  {
   "cell_type": "code",
   "execution_count": 136,
   "id": "28012b06",
   "metadata": {},
   "outputs": [],
   "source": [
    "df_recipe_popularity = pd.read_csv('../data/recipe_popularity.csv')"
   ]
  },
  {
   "cell_type": "code",
   "execution_count": 137,
   "id": "654890ac",
   "metadata": {},
   "outputs": [
    {
     "data": {
      "text/plain": [
       "user_id    224715\n",
       "dtype: int64"
      ]
     },
     "execution_count": 137,
     "metadata": {},
     "output_type": "execute_result"
    }
   ],
   "source": [
    "df_interactions[[\"user_id\"]].drop_duplicates().count()"
   ]
  },
  {
   "cell_type": "code",
   "execution_count": 77,
   "id": "f74f1052",
   "metadata": {},
   "outputs": [
    {
     "data": {
      "text/html": [
       "<div>\n",
       "<style scoped>\n",
       "    .dataframe tbody tr th:only-of-type {\n",
       "        vertical-align: middle;\n",
       "    }\n",
       "\n",
       "    .dataframe tbody tr th {\n",
       "        vertical-align: top;\n",
       "    }\n",
       "\n",
       "    .dataframe thead th {\n",
       "        text-align: right;\n",
       "    }\n",
       "</style>\n",
       "<table border=\"1\" class=\"dataframe\">\n",
       "  <thead>\n",
       "    <tr style=\"text-align: right;\">\n",
       "      <th></th>\n",
       "      <th>user_id</th>\n",
       "      <th>recipe_id</th>\n",
       "      <th>rating</th>\n",
       "    </tr>\n",
       "  </thead>\n",
       "  <tbody>\n",
       "    <tr>\n",
       "      <th>0</th>\n",
       "      <td>6043f4dcb8458600693a374d</td>\n",
       "      <td>7665</td>\n",
       "      <td>7665</td>\n",
       "    </tr>\n",
       "    <tr>\n",
       "      <th>1</th>\n",
       "      <td>60cbbe3bed6fcb006949d796</td>\n",
       "      <td>5587</td>\n",
       "      <td>5587</td>\n",
       "    </tr>\n",
       "    <tr>\n",
       "      <th>2</th>\n",
       "      <td>60cbbe00348edc006a22c826</td>\n",
       "      <td>4621</td>\n",
       "      <td>4621</td>\n",
       "    </tr>\n",
       "    <tr>\n",
       "      <th>3</th>\n",
       "      <td>60cbbdb8ed6fcb006949d771</td>\n",
       "      <td>4073</td>\n",
       "      <td>4073</td>\n",
       "    </tr>\n",
       "    <tr>\n",
       "      <th>4</th>\n",
       "      <td>60cbbd7c7f82d100681b3386</td>\n",
       "      <td>3912</td>\n",
       "      <td>3912</td>\n",
       "    </tr>\n",
       "    <tr>\n",
       "      <th>...</th>\n",
       "      <td>...</td>\n",
       "      <td>...</td>\n",
       "      <td>...</td>\n",
       "    </tr>\n",
       "    <tr>\n",
       "      <th>95</th>\n",
       "      <td>2875f5879dad4118aff113d0</td>\n",
       "      <td>1010</td>\n",
       "      <td>1010</td>\n",
       "    </tr>\n",
       "    <tr>\n",
       "      <th>96</th>\n",
       "      <td>64bbfd442dd8434f8bd71234</td>\n",
       "      <td>994</td>\n",
       "      <td>994</td>\n",
       "    </tr>\n",
       "    <tr>\n",
       "      <th>97</th>\n",
       "      <td>05f01b5ce879451c9deb2c37</td>\n",
       "      <td>991</td>\n",
       "      <td>991</td>\n",
       "    </tr>\n",
       "    <tr>\n",
       "      <th>98</th>\n",
       "      <td>ed5ae65ae48d424a8bfc4332</td>\n",
       "      <td>982</td>\n",
       "      <td>982</td>\n",
       "    </tr>\n",
       "    <tr>\n",
       "      <th>99</th>\n",
       "      <td>27e51674eeb9428d8bd83bd5</td>\n",
       "      <td>958</td>\n",
       "      <td>958</td>\n",
       "    </tr>\n",
       "  </tbody>\n",
       "</table>\n",
       "<p>100 rows × 3 columns</p>\n",
       "</div>"
      ],
      "text/plain": [
       "                     user_id  recipe_id  rating\n",
       "0   6043f4dcb8458600693a374d       7665    7665\n",
       "1   60cbbe3bed6fcb006949d796       5587    5587\n",
       "2   60cbbe00348edc006a22c826       4621    4621\n",
       "3   60cbbdb8ed6fcb006949d771       4073    4073\n",
       "4   60cbbd7c7f82d100681b3386       3912    3912\n",
       "..                       ...        ...     ...\n",
       "95  2875f5879dad4118aff113d0       1010    1010\n",
       "96  64bbfd442dd8434f8bd71234        994     994\n",
       "97  05f01b5ce879451c9deb2c37        991     991\n",
       "98  ed5ae65ae48d424a8bfc4332        982     982\n",
       "99  27e51674eeb9428d8bd83bd5        958     958\n",
       "\n",
       "[100 rows x 3 columns]"
      ]
     },
     "execution_count": 77,
     "metadata": {},
     "output_type": "execute_result"
    }
   ],
   "source": [
    "df_interactions.groupby([\"user_id\"]).count().sort_values(\"rating\", ascending=False).reset_index().head(100)"
   ]
  },
  {
   "cell_type": "code",
   "execution_count": 138,
   "id": "cbbbbb5c",
   "metadata": {},
   "outputs": [],
   "source": [
    "df_top_reviewers = df_interactions.groupby([\"user_id\"]).count().sort_values(\"rating\", ascending=False).reset_index()[\"user_id\"]\n",
    "#df_top_reviewers = df_top_reviewers.head(250)\n",
    "df_bottom_reviewers = df_interactions.groupby([\"user_id\"]).count().sort_values(\"rating\", ascending=True).reset_index()[\"user_id\"]\n",
    "#df_bottom_reviewers = df_bottom_reviewers.head(5000)"
   ]
  },
  {
   "cell_type": "code",
   "execution_count": 139,
   "id": "97ec4e1e",
   "metadata": {},
   "outputs": [],
   "source": [
    "df_reviewers = pd.concat([df_top_reviewers, df_bottom_reviewers]).drop_duplicates()"
   ]
  },
  {
   "cell_type": "code",
   "execution_count": 140,
   "id": "a6f63597",
   "metadata": {},
   "outputs": [],
   "source": [
    "df_reviews = df_interactions.loc[df_interactions[\"user_id\"].isin(df_reviewers)]\n",
    "df_reviews = df_reviews.reset_index(drop=True)"
   ]
  },
  {
   "cell_type": "code",
   "execution_count": 141,
   "id": "8615e384",
   "metadata": {},
   "outputs": [
    {
     "data": {
      "text/plain": [
       "user_id      1124532\n",
       "recipe_id    1124532\n",
       "rating       1124532\n",
       "date         1124532\n",
       "dtype: int64"
      ]
     },
     "execution_count": 141,
     "metadata": {},
     "output_type": "execute_result"
    }
   ],
   "source": [
    "df_reviews.count()"
   ]
  },
  {
   "cell_type": "code",
   "execution_count": 51,
   "id": "c017e43b",
   "metadata": {},
   "outputs": [
    {
     "data": {
      "text/plain": [
       "recipe_id              231316\n",
       "submitted              231316\n",
       "rating_count           231316\n",
       "rating_sum             231316\n",
       "rating_avg             231316\n",
       "rating_weighted_avg    231316\n",
       "rank                   231316\n",
       "dtype: int64"
      ]
     },
     "execution_count": 51,
     "metadata": {},
     "output_type": "execute_result"
    }
   ],
   "source": [
    "df_recipe_popularity.count()"
   ]
  },
  {
   "cell_type": "code",
   "execution_count": 142,
   "id": "49d10f25",
   "metadata": {},
   "outputs": [],
   "source": [
    "df_joined = df_reviews.merge(df_recipe_popularity[[\"recipe_id\", \"rating_count\", \"rating_sum\", \"rating_avg\", \"rating_weighted_avg\", \"rank\"]], on=[\"recipe_id\"], how=\"left\")"
   ]
  },
  {
   "cell_type": "code",
   "execution_count": 143,
   "id": "e4605da2",
   "metadata": {},
   "outputs": [
    {
     "data": {
      "text/plain": [
       "user_id                1124532\n",
       "recipe_id              1124532\n",
       "rating                 1124532\n",
       "date                   1124532\n",
       "rating_count           1124532\n",
       "rating_sum             1124532\n",
       "rating_avg             1124532\n",
       "rating_weighted_avg    1124532\n",
       "rank                   1124532\n",
       "dtype: int64"
      ]
     },
     "execution_count": 143,
     "metadata": {},
     "output_type": "execute_result"
    }
   ],
   "source": [
    "df_joined.count()"
   ]
  },
  {
   "cell_type": "code",
   "execution_count": 144,
   "id": "9d3f9262",
   "metadata": {},
   "outputs": [],
   "source": [
    "df_joined[\"user_id\"] = df_joined[\"user_id\"].apply(lambda x: f\"auth0|{x}\")"
   ]
  },
  {
   "cell_type": "code",
   "execution_count": 145,
   "id": "2fde93ba",
   "metadata": {},
   "outputs": [
    {
     "data": {
      "text/html": [
       "<div>\n",
       "<style scoped>\n",
       "    .dataframe tbody tr th:only-of-type {\n",
       "        vertical-align: middle;\n",
       "    }\n",
       "\n",
       "    .dataframe tbody tr th {\n",
       "        vertical-align: top;\n",
       "    }\n",
       "\n",
       "    .dataframe thead th {\n",
       "        text-align: right;\n",
       "    }\n",
       "</style>\n",
       "<table border=\"1\" class=\"dataframe\">\n",
       "  <thead>\n",
       "    <tr style=\"text-align: right;\">\n",
       "      <th></th>\n",
       "      <th>user_id</th>\n",
       "      <th>recipe_id</th>\n",
       "      <th>rating</th>\n",
       "      <th>date</th>\n",
       "      <th>rating_count</th>\n",
       "      <th>rating_sum</th>\n",
       "      <th>rating_avg</th>\n",
       "      <th>rating_weighted_avg</th>\n",
       "      <th>rank</th>\n",
       "    </tr>\n",
       "  </thead>\n",
       "  <tbody>\n",
       "    <tr>\n",
       "      <th>0</th>\n",
       "      <td>auth0|37a18c3939764ac9b4d72bda</td>\n",
       "      <td>b355f2ab-a8e3-4c69-833c-3ac31f5b0022</td>\n",
       "      <td>4</td>\n",
       "      <td>2017-09-04</td>\n",
       "      <td>701</td>\n",
       "      <td>3013</td>\n",
       "      <td>4.298146</td>\n",
       "      <td>4.303293</td>\n",
       "      <td>214372</td>\n",
       "    </tr>\n",
       "    <tr>\n",
       "      <th>1</th>\n",
       "      <td>auth0|794e065d91d74983bbec1e2d</td>\n",
       "      <td>5d063835-3353-4072-8742-754a2b6931bf</td>\n",
       "      <td>4</td>\n",
       "      <td>2007-02-05</td>\n",
       "      <td>4</td>\n",
       "      <td>17</td>\n",
       "      <td>4.250000</td>\n",
       "      <td>4.342316</td>\n",
       "      <td>176924</td>\n",
       "    </tr>\n",
       "    <tr>\n",
       "      <th>2</th>\n",
       "      <td>auth0|b17d1cd98ba34cb89cf03827</td>\n",
       "      <td>4fd380ff-2998-418b-aa0f-7bf262452e5b</td>\n",
       "      <td>5</td>\n",
       "      <td>2010-03-06</td>\n",
       "      <td>3</td>\n",
       "      <td>10</td>\n",
       "      <td>3.333333</td>\n",
       "      <td>4.311412</td>\n",
       "      <td>206756</td>\n",
       "    </tr>\n",
       "    <tr>\n",
       "      <th>3</th>\n",
       "      <td>auth0|bc88bec56fa54115ae355987</td>\n",
       "      <td>b4a5a1b7-3015-4a5b-ae59-9f79fb6d7bb5</td>\n",
       "      <td>5</td>\n",
       "      <td>2008-04-17</td>\n",
       "      <td>51</td>\n",
       "      <td>243</td>\n",
       "      <td>4.764706</td>\n",
       "      <td>4.505832</td>\n",
       "      <td>619</td>\n",
       "    </tr>\n",
       "    <tr>\n",
       "      <th>4</th>\n",
       "      <td>auth0|bfa42caef31f42f2871ebd8d</td>\n",
       "      <td>4f128c81-e2ab-449c-91ca-194ab31b2d6e</td>\n",
       "      <td>5</td>\n",
       "      <td>2009-04-16</td>\n",
       "      <td>14</td>\n",
       "      <td>64</td>\n",
       "      <td>4.571429</td>\n",
       "      <td>4.379190</td>\n",
       "      <td>22109</td>\n",
       "    </tr>\n",
       "  </tbody>\n",
       "</table>\n",
       "</div>"
      ],
      "text/plain": [
       "                          user_id                             recipe_id  \\\n",
       "0  auth0|37a18c3939764ac9b4d72bda  b355f2ab-a8e3-4c69-833c-3ac31f5b0022   \n",
       "1  auth0|794e065d91d74983bbec1e2d  5d063835-3353-4072-8742-754a2b6931bf   \n",
       "2  auth0|b17d1cd98ba34cb89cf03827  4fd380ff-2998-418b-aa0f-7bf262452e5b   \n",
       "3  auth0|bc88bec56fa54115ae355987  b4a5a1b7-3015-4a5b-ae59-9f79fb6d7bb5   \n",
       "4  auth0|bfa42caef31f42f2871ebd8d  4f128c81-e2ab-449c-91ca-194ab31b2d6e   \n",
       "\n",
       "   rating        date  rating_count  rating_sum  rating_avg  \\\n",
       "0       4  2017-09-04           701        3013    4.298146   \n",
       "1       4  2007-02-05             4          17    4.250000   \n",
       "2       5  2010-03-06             3          10    3.333333   \n",
       "3       5  2008-04-17            51         243    4.764706   \n",
       "4       5  2009-04-16            14          64    4.571429   \n",
       "\n",
       "   rating_weighted_avg    rank  \n",
       "0             4.303293  214372  \n",
       "1             4.342316  176924  \n",
       "2             4.311412  206756  \n",
       "3             4.505832     619  \n",
       "4             4.379190   22109  "
      ]
     },
     "execution_count": 145,
     "metadata": {},
     "output_type": "execute_result"
    }
   ],
   "source": [
    "df_joined.head()"
   ]
  },
  {
   "cell_type": "code",
   "execution_count": 146,
   "id": "bf15e0ee",
   "metadata": {},
   "outputs": [],
   "source": [
    "train, test = train_test_split(df_joined, test_size=0.2)"
   ]
  },
  {
   "cell_type": "code",
   "execution_count": 147,
   "id": "029ace29",
   "metadata": {},
   "outputs": [],
   "source": [
    "train.to_csv('../data/ml_dotnet_interactions_train.csv', index=False)\n",
    "test.to_csv('../data/ml_dotnet_interactions_test.csv', index=False)"
   ]
  },
  {
   "cell_type": "code",
   "execution_count": 75,
   "id": "43591434",
   "metadata": {},
   "outputs": [],
   "source": [
    "df_joined[['user_id', 'recipe_id', 'rating']].to_csv('../data/new_ml_dotnet_interactions.csv', index=False)"
   ]
  },
  {
   "cell_type": "code",
   "execution_count": 109,
   "id": "57d64528",
   "metadata": {},
   "outputs": [],
   "source": [
    "df_joined.to_csv('../data/new_ml_dotnet_interactions.csv', index=False)"
   ]
  },
  {
   "cell_type": "code",
   "execution_count": 15,
   "id": "e64e1fa4",
   "metadata": {},
   "outputs": [],
   "source": [
    "df_interactions[['user_id', 'recipe_id', 'rating']].to_csv('../data/ml_dotnet_interactions.csv', index=False)"
   ]
  },
  {
   "cell_type": "code",
   "execution_count": 12,
   "id": "8332a76e",
   "metadata": {},
   "outputs": [],
   "source": [
    "df_tmp = df_interactions.query(\"user_id == 'auth0|6043f4dcb8458600693a374d'\")"
   ]
  },
  {
   "cell_type": "code",
   "execution_count": 14,
   "id": "db015641",
   "metadata": {},
   "outputs": [
    {
     "data": {
      "text/plain": [
       "user_id      7665\n",
       "recipe_id    7665\n",
       "rating       7665\n",
       "dtype: int64"
      ]
     },
     "execution_count": 14,
     "metadata": {},
     "output_type": "execute_result"
    }
   ],
   "source": [
    "df_tmp.count()"
   ]
  },
  {
   "cell_type": "code",
   "execution_count": 10,
   "id": "4c32d540",
   "metadata": {},
   "outputs": [],
   "source": [
    "df_interactions[\"user_id\"] = df_interactions[\"user_id\"].apply(lambda x: f\"auth0|{x}\")"
   ]
  },
  {
   "cell_type": "code",
   "execution_count": 19,
   "metadata": {},
   "outputs": [],
   "source": [
    "df_interactions_count_by_user_id = df_interactions \\\n",
    "  .groupby(by=['user_id']) \\\n",
    "  .count()['recipe_id'] \\\n",
    "  .reset_index() \\\n",
    "  .sort_values(by=['recipe_id'], ascending=False) \\\n",
    "  .reset_index() \\\n",
    "  .head(10)"
   ]
  },
  {
   "cell_type": "code",
   "execution_count": 20,
   "metadata": {},
   "outputs": [
    {
     "data": {
      "text/html": [
       "<div>\n",
       "<style scoped>\n",
       "    .dataframe tbody tr th:only-of-type {\n",
       "        vertical-align: middle;\n",
       "    }\n",
       "\n",
       "    .dataframe tbody tr th {\n",
       "        vertical-align: top;\n",
       "    }\n",
       "\n",
       "    .dataframe thead th {\n",
       "        text-align: right;\n",
       "    }\n",
       "</style>\n",
       "<table border=\"1\" class=\"dataframe\">\n",
       "  <thead>\n",
       "    <tr style=\"text-align: right;\">\n",
       "      <th></th>\n",
       "      <th>index</th>\n",
       "      <th>user_id</th>\n",
       "      <th>recipe_id</th>\n",
       "    </tr>\n",
       "  </thead>\n",
       "  <tbody>\n",
       "    <tr>\n",
       "      <th>0</th>\n",
       "      <td>84420</td>\n",
       "      <td>6043f4dcb8458600693a374d</td>\n",
       "      <td>7665</td>\n",
       "    </tr>\n",
       "    <tr>\n",
       "      <th>1</th>\n",
       "      <td>178441</td>\n",
       "      <td>cb75fcf8511e495f84088d67</td>\n",
       "      <td>5587</td>\n",
       "    </tr>\n",
       "    <tr>\n",
       "      <th>2</th>\n",
       "      <td>85651</td>\n",
       "      <td>61b19ce00265408e90f00ff1</td>\n",
       "      <td>4621</td>\n",
       "    </tr>\n",
       "    <tr>\n",
       "      <th>3</th>\n",
       "      <td>29352</td>\n",
       "      <td>217fafc0c55a469d8c9db938</td>\n",
       "      <td>4073</td>\n",
       "    </tr>\n",
       "    <tr>\n",
       "      <th>4</th>\n",
       "      <td>123195</td>\n",
       "      <td>8cad7584ce2d4915a8501cc0</td>\n",
       "      <td>3912</td>\n",
       "    </tr>\n",
       "    <tr>\n",
       "      <th>5</th>\n",
       "      <td>66752</td>\n",
       "      <td>4c05437200ee4c72a8b87e8a</td>\n",
       "      <td>3346</td>\n",
       "    </tr>\n",
       "    <tr>\n",
       "      <th>6</th>\n",
       "      <td>67894</td>\n",
       "      <td>4d506f1bab294bf8b0b1e1e0</td>\n",
       "      <td>3286</td>\n",
       "    </tr>\n",
       "    <tr>\n",
       "      <th>7</th>\n",
       "      <td>130526</td>\n",
       "      <td>94fb03af3a3a486a9330f736</td>\n",
       "      <td>3105</td>\n",
       "    </tr>\n",
       "    <tr>\n",
       "      <th>8</th>\n",
       "      <td>191512</td>\n",
       "      <td>da508cd928924cbaa0f5e540</td>\n",
       "      <td>3014</td>\n",
       "    </tr>\n",
       "    <tr>\n",
       "      <th>9</th>\n",
       "      <td>152894</td>\n",
       "      <td>ae99544697e74e8d9f70ae49</td>\n",
       "      <td>2890</td>\n",
       "    </tr>\n",
       "  </tbody>\n",
       "</table>\n",
       "</div>"
      ],
      "text/plain": [
       "    index                   user_id  recipe_id\n",
       "0   84420  6043f4dcb8458600693a374d       7665\n",
       "1  178441  cb75fcf8511e495f84088d67       5587\n",
       "2   85651  61b19ce00265408e90f00ff1       4621\n",
       "3   29352  217fafc0c55a469d8c9db938       4073\n",
       "4  123195  8cad7584ce2d4915a8501cc0       3912\n",
       "5   66752  4c05437200ee4c72a8b87e8a       3346\n",
       "6   67894  4d506f1bab294bf8b0b1e1e0       3286\n",
       "7  130526  94fb03af3a3a486a9330f736       3105\n",
       "8  191512  da508cd928924cbaa0f5e540       3014\n",
       "9  152894  ae99544697e74e8d9f70ae49       2890"
      ]
     },
     "execution_count": 20,
     "metadata": {},
     "output_type": "execute_result"
    }
   ],
   "source": [
    "df_interactions_count_by_user_id"
   ]
  },
  {
   "cell_type": "code",
   "execution_count": 33,
   "metadata": {},
   "outputs": [],
   "source": [
    "df_revised_interactions = df_interactions.copy()\n",
    "df_revised_interactions = df_revised_interactions \\\n",
    "  .replace(to_replace=['6043f4dcb8458600693a374d'], value='6043f4dcb8458600693a374d') \\\n",
    "  .replace(to_replace=['cb75fcf8511e495f84088d67'], value='60cbbe3bed6fcb006949d796') \\\n",
    "  .replace(to_replace=['61b19ce00265408e90f00ff1'], value='60cbbe00348edc006a22c826') \\\n",
    "  .replace(to_replace=['217fafc0c55a469d8c9db938'], value='60cbbdb8ed6fcb006949d771') \\\n",
    "  .replace(to_replace=['8cad7584ce2d4915a8501cc0'], value='60cbbd7c7f82d100681b3386') \\\n",
    "  .replace(to_replace=['4c05437200ee4c72a8b87e8a'], value='60cbbd3fd2fc940071e41a2e') \\\n",
    "  .replace(to_replace=['4d506f1bab294bf8b0b1e1e0'], value='60cbbd04348edc006a22c7ce') \\\n",
    "  .replace(to_replace=['94fb03af3a3a486a9330f736'], value='60cbbcd3348edc006a22c7b6') \\\n",
    "  .replace(to_replace=['da508cd928924cbaa0f5e540'], value='60cbbc6c348edc006a22c794') \\\n",
    "  .replace(to_replace=['ae99544697e74e8d9f70ae49'], value='60c90b265d89a500699d0111')"
   ]
  },
  {
   "cell_type": "code",
   "execution_count": 34,
   "metadata": {},
   "outputs": [],
   "source": [
    "df_revised_interactions_count_by_user_id = df_revised_interactions \\\n",
    "  .groupby(by=['user_id']) \\\n",
    "  .count()['recipe_id'] \\\n",
    "  .reset_index() \\\n",
    "  .sort_values(by=['recipe_id'], ascending=False) \\\n",
    "  .reset_index() \\\n",
    "  .head(10)"
   ]
  },
  {
   "cell_type": "code",
   "execution_count": 35,
   "metadata": {},
   "outputs": [
    {
     "data": {
      "text/html": [
       "<div>\n",
       "<style scoped>\n",
       "    .dataframe tbody tr th:only-of-type {\n",
       "        vertical-align: middle;\n",
       "    }\n",
       "\n",
       "    .dataframe tbody tr th {\n",
       "        vertical-align: top;\n",
       "    }\n",
       "\n",
       "    .dataframe thead th {\n",
       "        text-align: right;\n",
       "    }\n",
       "</style>\n",
       "<table border=\"1\" class=\"dataframe\">\n",
       "  <thead>\n",
       "    <tr style=\"text-align: right;\">\n",
       "      <th></th>\n",
       "      <th>index</th>\n",
       "      <th>user_id</th>\n",
       "      <th>recipe_id</th>\n",
       "    </tr>\n",
       "  </thead>\n",
       "  <tbody>\n",
       "    <tr>\n",
       "      <th>0</th>\n",
       "      <td>84417</td>\n",
       "      <td>6043f4dcb8458600693a374d</td>\n",
       "      <td>7665</td>\n",
       "    </tr>\n",
       "    <tr>\n",
       "      <th>1</th>\n",
       "      <td>84881</td>\n",
       "      <td>60cbbe3bed6fcb006949d796</td>\n",
       "      <td>5587</td>\n",
       "    </tr>\n",
       "    <tr>\n",
       "      <th>2</th>\n",
       "      <td>84880</td>\n",
       "      <td>60cbbe00348edc006a22c826</td>\n",
       "      <td>4621</td>\n",
       "    </tr>\n",
       "    <tr>\n",
       "      <th>3</th>\n",
       "      <td>84879</td>\n",
       "      <td>60cbbdb8ed6fcb006949d771</td>\n",
       "      <td>4073</td>\n",
       "    </tr>\n",
       "    <tr>\n",
       "      <th>4</th>\n",
       "      <td>84878</td>\n",
       "      <td>60cbbd7c7f82d100681b3386</td>\n",
       "      <td>3912</td>\n",
       "    </tr>\n",
       "    <tr>\n",
       "      <th>5</th>\n",
       "      <td>84877</td>\n",
       "      <td>60cbbd3fd2fc940071e41a2e</td>\n",
       "      <td>3346</td>\n",
       "    </tr>\n",
       "    <tr>\n",
       "      <th>6</th>\n",
       "      <td>84876</td>\n",
       "      <td>60cbbd04348edc006a22c7ce</td>\n",
       "      <td>3286</td>\n",
       "    </tr>\n",
       "    <tr>\n",
       "      <th>7</th>\n",
       "      <td>84875</td>\n",
       "      <td>60cbbcd3348edc006a22c7b6</td>\n",
       "      <td>3105</td>\n",
       "    </tr>\n",
       "    <tr>\n",
       "      <th>8</th>\n",
       "      <td>84874</td>\n",
       "      <td>60cbbc6c348edc006a22c794</td>\n",
       "      <td>3014</td>\n",
       "    </tr>\n",
       "    <tr>\n",
       "      <th>9</th>\n",
       "      <td>84860</td>\n",
       "      <td>60c90b265d89a500699d0111</td>\n",
       "      <td>2890</td>\n",
       "    </tr>\n",
       "  </tbody>\n",
       "</table>\n",
       "</div>"
      ],
      "text/plain": [
       "   index                   user_id  recipe_id\n",
       "0  84417  6043f4dcb8458600693a374d       7665\n",
       "1  84881  60cbbe3bed6fcb006949d796       5587\n",
       "2  84880  60cbbe00348edc006a22c826       4621\n",
       "3  84879  60cbbdb8ed6fcb006949d771       4073\n",
       "4  84878  60cbbd7c7f82d100681b3386       3912\n",
       "5  84877  60cbbd3fd2fc940071e41a2e       3346\n",
       "6  84876  60cbbd04348edc006a22c7ce       3286\n",
       "7  84875  60cbbcd3348edc006a22c7b6       3105\n",
       "8  84874  60cbbc6c348edc006a22c794       3014\n",
       "9  84860  60c90b265d89a500699d0111       2890"
      ]
     },
     "execution_count": 35,
     "metadata": {},
     "output_type": "execute_result"
    }
   ],
   "source": [
    "df_revised_interactions_count_by_user_id.head(10)"
   ]
  },
  {
   "cell_type": "code",
   "execution_count": 36,
   "metadata": {},
   "outputs": [],
   "source": [
    "df_revised_interactions.to_csv('../data/revised_interactions.csv', index=False)"
   ]
  },
  {
   "cell_type": "code",
   "execution_count": 40,
   "metadata": {},
   "outputs": [],
   "source": [
    "df_revised_interactions[['user_id', 'recipe_id', 'rating']].to_csv('../data/ml_dotnet_interactions.csv', index=False)"
   ]
  }
 ],
 "metadata": {
  "interpreter": {
   "hash": "bdb0b136d236cff73b297997b17877ae1eb3963ce195e0fe5d5b0031224a2c51"
  },
  "kernelspec": {
   "display_name": "Python 3.8.10 ('culina-ml-zIhfwqQ9-py3.8')",
   "language": "python",
   "name": "python3"
  },
  "language_info": {
   "codemirror_mode": {
    "name": "ipython",
    "version": 3
   },
   "file_extension": ".py",
   "mimetype": "text/x-python",
   "name": "python",
   "nbconvert_exporter": "python",
   "pygments_lexer": "ipython3",
   "version": "3.8.10"
  }
 },
 "nbformat": 4,
 "nbformat_minor": 5
}
