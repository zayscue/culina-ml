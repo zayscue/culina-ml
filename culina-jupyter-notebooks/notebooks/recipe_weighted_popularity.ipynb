{
 "cells": [
  {
   "cell_type": "code",
   "execution_count": 1,
   "metadata": {},
   "outputs": [],
   "source": [
    "import pandas as pd"
   ]
  },
  {
   "cell_type": "markdown",
   "metadata": {},
   "source": [
    "### Load Data from Source Files"
   ]
  },
  {
   "cell_type": "code",
   "execution_count": 2,
   "metadata": {},
   "outputs": [],
   "source": [
    "\n",
    "df_recipes = pd.read_csv(\"../data/recipes.csv\")\n",
    "df_interactions = pd.read_csv(\"../data/interactions.csv\")"
   ]
  },
  {
   "cell_type": "code",
   "execution_count": 3,
   "metadata": {},
   "outputs": [],
   "source": [
    "interactions_sum = df_interactions[\"rating\"].sum()\n",
    "interactions_count = df_interactions[\"rating\"].count()\n",
    "\n",
    "df_recipe_ids = df_recipes[[\"id\"]]\n",
    "df_mean_ratings = df_recipe_ids.copy()[[\"id\"]]\n",
    "df_mean_ratings[\"mean_rating\"] = (interactions_sum/interactions_count)"
   ]
  },
  {
   "cell_type": "code",
   "execution_count": 4,
   "metadata": {},
   "outputs": [],
   "source": [
    "df_merged = pd.merge(\n",
    "    df_interactions,\n",
    "    df_recipes,\n",
    "    left_on=[\"recipe_id\"],\n",
    "    right_on=[\"id\"], how=\"left\"\n",
    "    )[[\"id\", \"name\", \"rating\"]]"
   ]
  },
  {
   "cell_type": "code",
   "execution_count": 5,
   "metadata": {},
   "outputs": [],
   "source": [
    "df_ratings_count = df_merged.groupby([\"id\"]) \\\n",
    "    .count()[[\"rating\"]] \\\n",
    "    .reset_index() \\\n",
    "    .rename(columns={\"rating\": \"ratings_count\"})"
   ]
  },
  {
   "cell_type": "code",
   "execution_count": 6,
   "metadata": {},
   "outputs": [],
   "source": [
    "df_ratings_average = df_merged.groupby([\"id\"]) \\\n",
    "    .mean()[[\"rating\"]] \\\n",
    "    .reset_index() \\\n",
    "    .rename(columns={\"rating\": \"ratings_average\"})"
   ]
  },
  {
   "cell_type": "code",
   "execution_count": 7,
   "metadata": {},
   "outputs": [],
   "source": [
    "df_tmp_one = pd.merge(df_mean_ratings, df_ratings_count, on=\"id\")\n",
    "df_tmp_two = pd.merge(df_tmp_one, df_ratings_average, on=\"id\")\n",
    "df_tmp_two[\"min_ratings_count\"] = df_tmp_two[\"ratings_count\"] \\\n",
    "    .quantile(1 - (10000/df_tmp_two[\"ratings_count\"].count()))\n",
    "\n",
    "def weighted_average(row):\n",
    "    ratings_count = row[\"ratings_count\"]\n",
    "    ratings_average = row[\"ratings_average\"]\n",
    "    min_ratings_count = row[\"min_ratings_count\"]\n",
    "    mean_rating = row[\"mean_rating\"]\n",
    "    return ((ratings_average * ratings_count) + (mean_rating * min_ratings_count))/(ratings_count + min_ratings_count)\n",
    "\n",
    "df_tmp_two[\"ratings_weighted_average\"] = df_tmp_two.apply(lambda r : weighted_average(r), axis=1)"
   ]
  },
  {
   "cell_type": "code",
   "execution_count": 8,
   "metadata": {},
   "outputs": [],
   "source": [
    "df_recipe_popularity = df_tmp_two.sort_values([\"ratings_weighted_average\"], ascending=False) \\\n",
    "    .reset_index(drop=True)\n",
    "df_recipe_popularity = pd.merge(df_recipe_popularity, df_recipes, on=\"id\")[[\n",
    "        \"id\",\n",
    "        \"name\",\n",
    "        \"mean_rating\",\n",
    "        \"ratings_count\",\n",
    "        \"ratings_average\",\n",
    "        \"min_ratings_count\",\n",
    "        \"ratings_weighted_average\"\n",
    "    ]]"
   ]
  },
  {
   "cell_type": "code",
   "execution_count": 9,
   "metadata": {},
   "outputs": [],
   "source": [
    "df_recipe_popularity.to_csv(\"../data/recipe_popularity.csv\", index=False)"
   ]
  }
 ],
 "metadata": {
  "interpreter": {
   "hash": "e530c750e50f0562ebac6c1ab2628f2fa4db404a886164886e221e44206ed578"
  },
  "kernelspec": {
   "display_name": "Python 3.8.10 64-bit ('culina-ml-40shGluF-py3.8': poetry)",
   "language": "python",
   "name": "python3"
  },
  "language_info": {
   "codemirror_mode": {
    "name": "ipython",
    "version": 3
   },
   "file_extension": ".py",
   "mimetype": "text/x-python",
   "name": "python",
   "nbconvert_exporter": "python",
   "pygments_lexer": "ipython3",
   "version": "3.8.10"
  },
  "orig_nbformat": 4
 },
 "nbformat": 4,
 "nbformat_minor": 2
}
