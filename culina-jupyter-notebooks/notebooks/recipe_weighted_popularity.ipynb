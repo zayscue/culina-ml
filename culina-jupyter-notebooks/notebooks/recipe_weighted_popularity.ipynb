{
 "cells": [
  {
   "cell_type": "code",
   "execution_count": 1,
   "metadata": {},
   "outputs": [],
   "source": [
    "import pandas as pd"
   ]
  },
  {
   "cell_type": "markdown",
   "metadata": {},
   "source": [
    "### Load Data from Source Files"
   ]
  },
  {
   "cell_type": "code",
   "execution_count": 2,
   "metadata": {},
   "outputs": [],
   "source": [
    "\n",
    "df_recipes = pd.read_csv(\"../data/recipes.csv\")\n",
    "df_interactions = pd.read_csv(\"../data/interactions.csv\")"
   ]
  },
  {
   "cell_type": "code",
   "execution_count": 3,
   "metadata": {},
   "outputs": [],
   "source": [
    "interactions_sum = df_interactions[\"rating\"].sum()\n",
    "interactions_count = df_interactions[\"rating\"].count()\n",
    "\n",
    "df_recipe_ids = df_recipes[[\"id\"]]\n",
    "df_mean_ratings = df_recipe_ids.copy()[[\"id\"]]\n",
    "df_mean_ratings[\"mean_rating\"] = (interactions_sum/interactions_count)"
   ]
  },
  {
   "cell_type": "code",
   "execution_count": 4,
   "metadata": {},
   "outputs": [],
   "source": [
    "df_merged = pd.merge(\n",
    "    df_interactions,\n",
    "    df_recipes,\n",
    "    left_on=[\"recipe_id\"],\n",
    "    right_on=[\"id\"], how=\"left\"\n",
    "    )[[\"id\", \"name\", \"rating\"]]"
   ]
  },
  {
   "cell_type": "code",
   "execution_count": 6,
   "metadata": {},
   "outputs": [
    {
     "data": {
      "text/html": [
       "<div>\n",
       "<style scoped>\n",
       "    .dataframe tbody tr th:only-of-type {\n",
       "        vertical-align: middle;\n",
       "    }\n",
       "\n",
       "    .dataframe tbody tr th {\n",
       "        vertical-align: top;\n",
       "    }\n",
       "\n",
       "    .dataframe thead th {\n",
       "        text-align: right;\n",
       "    }\n",
       "</style>\n",
       "<table border=\"1\" class=\"dataframe\">\n",
       "  <thead>\n",
       "    <tr style=\"text-align: right;\">\n",
       "      <th></th>\n",
       "      <th>id</th>\n",
       "      <th>name</th>\n",
       "      <th>rating</th>\n",
       "    </tr>\n",
       "  </thead>\n",
       "  <tbody>\n",
       "    <tr>\n",
       "      <th>0</th>\n",
       "      <td>b355f2ab-a8e3-4c69-833c-3ac31f5b0022</td>\n",
       "      <td>soft snickerdoodle cookies</td>\n",
       "      <td>4</td>\n",
       "    </tr>\n",
       "    <tr>\n",
       "      <th>1</th>\n",
       "      <td>5d063835-3353-4072-8742-754a2b6931bf</td>\n",
       "      <td>three bean salad with orange vinaigrette</td>\n",
       "      <td>4</td>\n",
       "    </tr>\n",
       "    <tr>\n",
       "      <th>2</th>\n",
       "      <td>4fd380ff-2998-418b-aa0f-7bf262452e5b</td>\n",
       "      <td>sesame maple roasted tofu</td>\n",
       "      <td>5</td>\n",
       "    </tr>\n",
       "    <tr>\n",
       "      <th>3</th>\n",
       "      <td>b4a5a1b7-3015-4a5b-ae59-9f79fb6d7bb5</td>\n",
       "      <td>oat n  toffee cookies</td>\n",
       "      <td>5</td>\n",
       "    </tr>\n",
       "    <tr>\n",
       "      <th>4</th>\n",
       "      <td>4f128c81-e2ab-449c-91ca-194ab31b2d6e</td>\n",
       "      <td>filled strawberry cheesecakes</td>\n",
       "      <td>5</td>\n",
       "    </tr>\n",
       "  </tbody>\n",
       "</table>\n",
       "</div>"
      ],
      "text/plain": [
       "                                     id  \\\n",
       "0  b355f2ab-a8e3-4c69-833c-3ac31f5b0022   \n",
       "1  5d063835-3353-4072-8742-754a2b6931bf   \n",
       "2  4fd380ff-2998-418b-aa0f-7bf262452e5b   \n",
       "3  b4a5a1b7-3015-4a5b-ae59-9f79fb6d7bb5   \n",
       "4  4f128c81-e2ab-449c-91ca-194ab31b2d6e   \n",
       "\n",
       "                                       name  rating  \n",
       "0                soft snickerdoodle cookies       4  \n",
       "1  three bean salad with orange vinaigrette       4  \n",
       "2                 sesame maple roasted tofu       5  \n",
       "3                     oat n  toffee cookies       5  \n",
       "4             filled strawberry cheesecakes       5  "
      ]
     },
     "execution_count": 6,
     "metadata": {},
     "output_type": "execute_result"
    }
   ],
   "source": [
    "df_merged.head()"
   ]
  },
  {
   "cell_type": "code",
   "execution_count": 7,
   "metadata": {},
   "outputs": [],
   "source": [
    "df_ratings_count = df_merged.groupby([\"id\"]) \\\n",
    "    .count()[[\"rating\"]] \\\n",
    "    .reset_index() \\\n",
    "    .rename(columns={\"rating\": \"ratings_count\"})"
   ]
  },
  {
   "cell_type": "code",
   "execution_count": 8,
   "metadata": {},
   "outputs": [
    {
     "data": {
      "text/html": [
       "<div>\n",
       "<style scoped>\n",
       "    .dataframe tbody tr th:only-of-type {\n",
       "        vertical-align: middle;\n",
       "    }\n",
       "\n",
       "    .dataframe tbody tr th {\n",
       "        vertical-align: top;\n",
       "    }\n",
       "\n",
       "    .dataframe thead th {\n",
       "        text-align: right;\n",
       "    }\n",
       "</style>\n",
       "<table border=\"1\" class=\"dataframe\">\n",
       "  <thead>\n",
       "    <tr style=\"text-align: right;\">\n",
       "      <th></th>\n",
       "      <th>id</th>\n",
       "      <th>ratings_count</th>\n",
       "    </tr>\n",
       "  </thead>\n",
       "  <tbody>\n",
       "    <tr>\n",
       "      <th>0</th>\n",
       "      <td>000002ad-1d04-438b-b047-81ae2defd87d</td>\n",
       "      <td>30</td>\n",
       "    </tr>\n",
       "    <tr>\n",
       "      <th>1</th>\n",
       "      <td>00003604-5c44-4773-8e7e-1693f92410ec</td>\n",
       "      <td>1</td>\n",
       "    </tr>\n",
       "    <tr>\n",
       "      <th>2</th>\n",
       "      <td>00007d2c-eb1e-4d13-af2a-1acd6e4da72d</td>\n",
       "      <td>6</td>\n",
       "    </tr>\n",
       "    <tr>\n",
       "      <th>3</th>\n",
       "      <td>0000abc9-fb37-46a1-95ee-cd60575dd13d</td>\n",
       "      <td>1</td>\n",
       "    </tr>\n",
       "    <tr>\n",
       "      <th>4</th>\n",
       "      <td>0000cb28-764b-4807-8233-04a293c6b876</td>\n",
       "      <td>2</td>\n",
       "    </tr>\n",
       "  </tbody>\n",
       "</table>\n",
       "</div>"
      ],
      "text/plain": [
       "                                     id  ratings_count\n",
       "0  000002ad-1d04-438b-b047-81ae2defd87d             30\n",
       "1  00003604-5c44-4773-8e7e-1693f92410ec              1\n",
       "2  00007d2c-eb1e-4d13-af2a-1acd6e4da72d              6\n",
       "3  0000abc9-fb37-46a1-95ee-cd60575dd13d              1\n",
       "4  0000cb28-764b-4807-8233-04a293c6b876              2"
      ]
     },
     "execution_count": 8,
     "metadata": {},
     "output_type": "execute_result"
    }
   ],
   "source": [
    "df_ratings_count.head()"
   ]
  },
  {
   "cell_type": "code",
   "execution_count": 9,
   "metadata": {},
   "outputs": [],
   "source": [
    "df_ratings_average = df_merged.groupby([\"id\"]) \\\n",
    "    .mean()[[\"rating\"]] \\\n",
    "    .reset_index() \\\n",
    "    .rename(columns={\"rating\": \"ratings_average\"})"
   ]
  },
  {
   "cell_type": "code",
   "execution_count": 10,
   "metadata": {},
   "outputs": [
    {
     "data": {
      "text/html": [
       "<div>\n",
       "<style scoped>\n",
       "    .dataframe tbody tr th:only-of-type {\n",
       "        vertical-align: middle;\n",
       "    }\n",
       "\n",
       "    .dataframe tbody tr th {\n",
       "        vertical-align: top;\n",
       "    }\n",
       "\n",
       "    .dataframe thead th {\n",
       "        text-align: right;\n",
       "    }\n",
       "</style>\n",
       "<table border=\"1\" class=\"dataframe\">\n",
       "  <thead>\n",
       "    <tr style=\"text-align: right;\">\n",
       "      <th></th>\n",
       "      <th>id</th>\n",
       "      <th>ratings_average</th>\n",
       "    </tr>\n",
       "  </thead>\n",
       "  <tbody>\n",
       "    <tr>\n",
       "      <th>0</th>\n",
       "      <td>000002ad-1d04-438b-b047-81ae2defd87d</td>\n",
       "      <td>4.3</td>\n",
       "    </tr>\n",
       "    <tr>\n",
       "      <th>1</th>\n",
       "      <td>00003604-5c44-4773-8e7e-1693f92410ec</td>\n",
       "      <td>3.0</td>\n",
       "    </tr>\n",
       "    <tr>\n",
       "      <th>2</th>\n",
       "      <td>00007d2c-eb1e-4d13-af2a-1acd6e4da72d</td>\n",
       "      <td>5.0</td>\n",
       "    </tr>\n",
       "    <tr>\n",
       "      <th>3</th>\n",
       "      <td>0000abc9-fb37-46a1-95ee-cd60575dd13d</td>\n",
       "      <td>5.0</td>\n",
       "    </tr>\n",
       "    <tr>\n",
       "      <th>4</th>\n",
       "      <td>0000cb28-764b-4807-8233-04a293c6b876</td>\n",
       "      <td>3.5</td>\n",
       "    </tr>\n",
       "  </tbody>\n",
       "</table>\n",
       "</div>"
      ],
      "text/plain": [
       "                                     id  ratings_average\n",
       "0  000002ad-1d04-438b-b047-81ae2defd87d              4.3\n",
       "1  00003604-5c44-4773-8e7e-1693f92410ec              3.0\n",
       "2  00007d2c-eb1e-4d13-af2a-1acd6e4da72d              5.0\n",
       "3  0000abc9-fb37-46a1-95ee-cd60575dd13d              5.0\n",
       "4  0000cb28-764b-4807-8233-04a293c6b876              3.5"
      ]
     },
     "execution_count": 10,
     "metadata": {},
     "output_type": "execute_result"
    }
   ],
   "source": [
    "df_ratings_average.head()"
   ]
  },
  {
   "cell_type": "code",
   "execution_count": 11,
   "metadata": {},
   "outputs": [],
   "source": [
    "df_tmp_one = pd.merge(df_mean_ratings, df_ratings_count, on=\"id\")\n",
    "df_tmp_two = pd.merge(df_tmp_one, df_ratings_average, on=\"id\")\n",
    "df_tmp_two[\"min_ratings_count\"] = df_tmp_two[\"ratings_count\"] \\\n",
    "    .quantile(1 - (10000/df_tmp_two[\"ratings_count\"].count()))\n",
    "\n",
    "def weighted_average(row):\n",
    "    ratings_count = row[\"ratings_count\"]\n",
    "    ratings_average = row[\"ratings_average\"]\n",
    "    min_ratings_count = row[\"min_ratings_count\"]\n",
    "    mean_rating = row[\"mean_rating\"]\n",
    "    return ((ratings_average * ratings_count) + (mean_rating * min_ratings_count))/(ratings_count + min_ratings_count)\n",
    "\n",
    "df_tmp_two[\"ratings_weighted_average\"] = df_tmp_two.apply(lambda r : weighted_average(r), axis=1)"
   ]
  },
  {
   "cell_type": "code",
   "execution_count": 12,
   "metadata": {},
   "outputs": [],
   "source": [
    "df_recipe_popularity = df_tmp_two.sort_values([\"ratings_weighted_average\"], ascending=False) \\\n",
    "    .reset_index(drop=True)\n",
    "df_recipe_popularity = pd.merge(df_recipe_popularity, df_recipes, on=\"id\")[[\n",
    "        \"id\",\n",
    "        \"name\",\n",
    "        \"mean_rating\",\n",
    "        \"ratings_count\",\n",
    "        \"ratings_average\",\n",
    "        \"min_ratings_count\",\n",
    "        \"ratings_weighted_average\"\n",
    "    ]]"
   ]
  },
  {
   "cell_type": "code",
   "execution_count": 13,
   "metadata": {},
   "outputs": [
    {
     "data": {
      "text/html": [
       "<div>\n",
       "<style scoped>\n",
       "    .dataframe tbody tr th:only-of-type {\n",
       "        vertical-align: middle;\n",
       "    }\n",
       "\n",
       "    .dataframe tbody tr th {\n",
       "        vertical-align: top;\n",
       "    }\n",
       "\n",
       "    .dataframe thead th {\n",
       "        text-align: right;\n",
       "    }\n",
       "</style>\n",
       "<table border=\"1\" class=\"dataframe\">\n",
       "  <thead>\n",
       "    <tr style=\"text-align: right;\">\n",
       "      <th></th>\n",
       "      <th>id</th>\n",
       "      <th>name</th>\n",
       "      <th>mean_rating</th>\n",
       "      <th>ratings_count</th>\n",
       "      <th>ratings_average</th>\n",
       "      <th>min_ratings_count</th>\n",
       "      <th>ratings_weighted_average</th>\n",
       "    </tr>\n",
       "  </thead>\n",
       "  <tbody>\n",
       "    <tr>\n",
       "      <th>0</th>\n",
       "      <td>47dc8f77-42df-4667-929b-4835f2f32073</td>\n",
       "      <td>mexican stack up  rsc</td>\n",
       "      <td>4.411666</td>\n",
       "      <td>217</td>\n",
       "      <td>4.990783</td>\n",
       "      <td>16.0</td>\n",
       "      <td>4.951016</td>\n",
       "    </tr>\n",
       "    <tr>\n",
       "      <th>1</th>\n",
       "      <td>5bee1ac6-e667-4b13-bebf-15862af52a49</td>\n",
       "      <td>mango salsa  1</td>\n",
       "      <td>4.411666</td>\n",
       "      <td>74</td>\n",
       "      <td>4.959459</td>\n",
       "      <td>16.0</td>\n",
       "      <td>4.862074</td>\n",
       "    </tr>\n",
       "    <tr>\n",
       "      <th>2</th>\n",
       "      <td>635d1863-37e1-4146-8b69-1c0bca178db0</td>\n",
       "      <td>caprese salad tomatoes  italian marinated toma...</td>\n",
       "      <td>4.411666</td>\n",
       "      <td>52</td>\n",
       "      <td>5.000000</td>\n",
       "      <td>16.0</td>\n",
       "      <td>4.861569</td>\n",
       "    </tr>\n",
       "    <tr>\n",
       "      <th>3</th>\n",
       "      <td>c3653883-f558-4573-a08f-b87b7a98a90b</td>\n",
       "      <td>brown sugar bundt cake</td>\n",
       "      <td>4.411666</td>\n",
       "      <td>118</td>\n",
       "      <td>4.915254</td>\n",
       "      <td>16.0</td>\n",
       "      <td>4.855124</td>\n",
       "    </tr>\n",
       "    <tr>\n",
       "      <th>4</th>\n",
       "      <td>f1f7d3b0-2942-4d8c-acfc-c554a13a9bdc</td>\n",
       "      <td>syrup for blueberry pancakes</td>\n",
       "      <td>4.411666</td>\n",
       "      <td>57</td>\n",
       "      <td>4.964912</td>\n",
       "      <td>16.0</td>\n",
       "      <td>4.843653</td>\n",
       "    </tr>\n",
       "  </tbody>\n",
       "</table>\n",
       "</div>"
      ],
      "text/plain": [
       "                                     id  \\\n",
       "0  47dc8f77-42df-4667-929b-4835f2f32073   \n",
       "1  5bee1ac6-e667-4b13-bebf-15862af52a49   \n",
       "2  635d1863-37e1-4146-8b69-1c0bca178db0   \n",
       "3  c3653883-f558-4573-a08f-b87b7a98a90b   \n",
       "4  f1f7d3b0-2942-4d8c-acfc-c554a13a9bdc   \n",
       "\n",
       "                                                name  mean_rating  \\\n",
       "0                              mexican stack up  rsc     4.411666   \n",
       "1                                     mango salsa  1     4.411666   \n",
       "2  caprese salad tomatoes  italian marinated toma...     4.411666   \n",
       "3                             brown sugar bundt cake     4.411666   \n",
       "4                       syrup for blueberry pancakes     4.411666   \n",
       "\n",
       "   ratings_count  ratings_average  min_ratings_count  ratings_weighted_average  \n",
       "0            217         4.990783               16.0                  4.951016  \n",
       "1             74         4.959459               16.0                  4.862074  \n",
       "2             52         5.000000               16.0                  4.861569  \n",
       "3            118         4.915254               16.0                  4.855124  \n",
       "4             57         4.964912               16.0                  4.843653  "
      ]
     },
     "execution_count": 13,
     "metadata": {},
     "output_type": "execute_result"
    }
   ],
   "source": [
    "df_recipe_popularity.head()"
   ]
  },
  {
   "cell_type": "code",
   "execution_count": 14,
   "metadata": {},
   "outputs": [],
   "source": [
    "df_recipe_popularity.to_csv(\"../data/recipe_popularity.csv\", index=False)"
   ]
  }
 ],
 "metadata": {
  "kernelspec": {
   "display_name": "culina-ml-40shGluF-py3.9",
   "language": "python",
   "name": "python3"
  },
  "language_info": {
   "codemirror_mode": {
    "name": "ipython",
    "version": 3
   },
   "file_extension": ".py",
   "mimetype": "text/x-python",
   "name": "python",
   "nbconvert_exporter": "python",
   "pygments_lexer": "ipython3",
   "version": "3.9.12"
  },
  "orig_nbformat": 4,
  "vscode": {
   "interpreter": {
    "hash": "d6131821938e415775df715634ec8fe58985897a046b8322ab9ddb7023beab02"
   }
  }
 },
 "nbformat": 4,
 "nbformat_minor": 2
}
